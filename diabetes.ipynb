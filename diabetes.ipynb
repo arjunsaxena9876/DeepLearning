{
 "cells": [
  {
   "cell_type": "code",
   "execution_count": 1,
   "metadata": {},
   "outputs": [
    {
     "name": "stdout",
     "output_type": "stream",
     "text": [
      "2.4.1\n"
     ]
    }
   ],
   "source": [
    "import tensorflow as tf\n",
    "print(tf.__version__)"
   ]
  },
  {
   "cell_type": "code",
   "execution_count": 2,
   "metadata": {},
   "outputs": [],
   "source": [
    "import numpy as np\n",
    "import pandas as pd\n",
    "import matplotlib.pyplot as plt"
   ]
  },
  {
   "cell_type": "code",
   "execution_count": 4,
   "metadata": {},
   "outputs": [],
   "source": [
    "diabetes = pd.read_csv(r'E:\\Self Learning\\Learn bay\\Day-7_Tensorflow_Session_Python_Notebooks\\diabetes.csv')"
   ]
  },
  {
   "cell_type": "code",
   "execution_count": 6,
   "metadata": {},
   "outputs": [
    {
     "data": {
      "text/html": [
       "<div>\n",
       "<style scoped>\n",
       "    .dataframe tbody tr th:only-of-type {\n",
       "        vertical-align: middle;\n",
       "    }\n",
       "\n",
       "    .dataframe tbody tr th {\n",
       "        vertical-align: top;\n",
       "    }\n",
       "\n",
       "    .dataframe thead th {\n",
       "        text-align: right;\n",
       "    }\n",
       "</style>\n",
       "<table border=\"1\" class=\"dataframe\">\n",
       "  <thead>\n",
       "    <tr style=\"text-align: right;\">\n",
       "      <th></th>\n",
       "      <th>AGE</th>\n",
       "      <th>SEX</th>\n",
       "      <th>BMI</th>\n",
       "      <th>BP</th>\n",
       "      <th>S1</th>\n",
       "      <th>S2</th>\n",
       "      <th>S3</th>\n",
       "      <th>S4</th>\n",
       "      <th>S5</th>\n",
       "      <th>S6</th>\n",
       "      <th>Y</th>\n",
       "    </tr>\n",
       "  </thead>\n",
       "  <tbody>\n",
       "    <tr>\n",
       "      <th>0</th>\n",
       "      <td>0.038076</td>\n",
       "      <td>0.050680</td>\n",
       "      <td>0.061696</td>\n",
       "      <td>0.021872</td>\n",
       "      <td>-0.044223</td>\n",
       "      <td>-0.034821</td>\n",
       "      <td>-0.043401</td>\n",
       "      <td>-0.002592</td>\n",
       "      <td>0.019908</td>\n",
       "      <td>-0.017646</td>\n",
       "      <td>151.0</td>\n",
       "    </tr>\n",
       "    <tr>\n",
       "      <th>1</th>\n",
       "      <td>-0.001882</td>\n",
       "      <td>-0.044642</td>\n",
       "      <td>-0.051474</td>\n",
       "      <td>-0.026328</td>\n",
       "      <td>-0.008449</td>\n",
       "      <td>-0.019163</td>\n",
       "      <td>0.074412</td>\n",
       "      <td>-0.039493</td>\n",
       "      <td>-0.068330</td>\n",
       "      <td>-0.092204</td>\n",
       "      <td>75.0</td>\n",
       "    </tr>\n",
       "    <tr>\n",
       "      <th>2</th>\n",
       "      <td>0.085299</td>\n",
       "      <td>0.050680</td>\n",
       "      <td>0.044451</td>\n",
       "      <td>-0.005671</td>\n",
       "      <td>-0.045599</td>\n",
       "      <td>-0.034194</td>\n",
       "      <td>-0.032356</td>\n",
       "      <td>-0.002592</td>\n",
       "      <td>0.002864</td>\n",
       "      <td>-0.025930</td>\n",
       "      <td>141.0</td>\n",
       "    </tr>\n",
       "    <tr>\n",
       "      <th>3</th>\n",
       "      <td>-0.089063</td>\n",
       "      <td>-0.044642</td>\n",
       "      <td>-0.011595</td>\n",
       "      <td>-0.036656</td>\n",
       "      <td>0.012191</td>\n",
       "      <td>0.024991</td>\n",
       "      <td>-0.036038</td>\n",
       "      <td>0.034309</td>\n",
       "      <td>0.022692</td>\n",
       "      <td>-0.009362</td>\n",
       "      <td>206.0</td>\n",
       "    </tr>\n",
       "    <tr>\n",
       "      <th>4</th>\n",
       "      <td>0.005383</td>\n",
       "      <td>-0.044642</td>\n",
       "      <td>-0.036385</td>\n",
       "      <td>0.021872</td>\n",
       "      <td>0.003935</td>\n",
       "      <td>0.015596</td>\n",
       "      <td>0.008142</td>\n",
       "      <td>-0.002592</td>\n",
       "      <td>-0.031991</td>\n",
       "      <td>-0.046641</td>\n",
       "      <td>135.0</td>\n",
       "    </tr>\n",
       "  </tbody>\n",
       "</table>\n",
       "</div>"
      ],
      "text/plain": [
       "        AGE       SEX       BMI        BP        S1        S2        S3  \\\n",
       "0  0.038076  0.050680  0.061696  0.021872 -0.044223 -0.034821 -0.043401   \n",
       "1 -0.001882 -0.044642 -0.051474 -0.026328 -0.008449 -0.019163  0.074412   \n",
       "2  0.085299  0.050680  0.044451 -0.005671 -0.045599 -0.034194 -0.032356   \n",
       "3 -0.089063 -0.044642 -0.011595 -0.036656  0.012191  0.024991 -0.036038   \n",
       "4  0.005383 -0.044642 -0.036385  0.021872  0.003935  0.015596  0.008142   \n",
       "\n",
       "         S4        S5        S6      Y  \n",
       "0 -0.002592  0.019908 -0.017646  151.0  \n",
       "1 -0.039493 -0.068330 -0.092204   75.0  \n",
       "2 -0.002592  0.002864 -0.025930  141.0  \n",
       "3  0.034309  0.022692 -0.009362  206.0  \n",
       "4 -0.002592 -0.031991 -0.046641  135.0  "
      ]
     },
     "execution_count": 6,
     "metadata": {},
     "output_type": "execute_result"
    }
   ],
   "source": [
    "diabetes.head()"
   ]
  },
  {
   "cell_type": "code",
   "execution_count": 7,
   "metadata": {},
   "outputs": [],
   "source": [
    "labels= diabetes[\"Y\"]"
   ]
  },
  {
   "cell_type": "code",
   "execution_count": 8,
   "metadata": {},
   "outputs": [
    {
     "data": {
      "text/plain": [
       "0      151.0\n",
       "1       75.0\n",
       "2      141.0\n",
       "3      206.0\n",
       "4      135.0\n",
       "       ...  \n",
       "437    178.0\n",
       "438    104.0\n",
       "439    132.0\n",
       "440    220.0\n",
       "441     57.0\n",
       "Name: Y, Length: 442, dtype: float64"
      ]
     },
     "execution_count": 8,
     "metadata": {},
     "output_type": "execute_result"
    }
   ],
   "source": [
    "labels"
   ]
  },
  {
   "cell_type": "code",
   "execution_count": 14,
   "metadata": {},
   "outputs": [
    {
     "data": {
      "text/plain": [
       "0      151.0\n",
       "1       75.0\n",
       "2      141.0\n",
       "3      206.0\n",
       "4      135.0\n",
       "       ...  \n",
       "437    178.0\n",
       "438    104.0\n",
       "439    132.0\n",
       "440    220.0\n",
       "441     57.0\n",
       "Name: Y, Length: 442, dtype: float64"
      ]
     },
     "execution_count": 14,
     "metadata": {},
     "output_type": "execute_result"
    }
   ],
   "source": [
    "X = diabetes.iloc[:,:10]\n",
    "y = diabetes.iloc[:,10]\n",
    "y"
   ]
  },
  {
   "cell_type": "code",
   "execution_count": 31,
   "metadata": {},
   "outputs": [],
   "source": [
    "from sklearn.model_selection import train_test_split\n",
    "X_train, X_test, y_train, y_test= train_test_split(X,y,test_size = 0.2, random_state = 42)"
   ]
  },
  {
   "cell_type": "code",
   "execution_count": 17,
   "metadata": {},
   "outputs": [],
   "source": [
    "from tensorflow.keras.layers import Input,Dense,Activation\n",
    "from tensorflow.keras.models import Model"
   ]
  },
  {
   "cell_type": "code",
   "execution_count": 32,
   "metadata": {},
   "outputs": [
    {
     "data": {
      "text/plain": [
       "10"
      ]
     },
     "execution_count": 32,
     "metadata": {},
     "output_type": "execute_result"
    }
   ],
   "source": [
    "X.shape[1]"
   ]
  },
  {
   "cell_type": "code",
   "execution_count": 33,
   "metadata": {},
   "outputs": [],
   "source": [
    "input_layer = Input(shape=(X.shape[1],))\n",
    "dense_layer_1 = Dense(15, activation='relu')(input_layer)\n",
    "dense_layer_2 = Dense(10, activation='relu')(dense_layer_1)\n",
    "output = Dense(1, activation='sigmoid')(dense_layer_2)\n",
    "\n",
    "model = Model(inputs=input_layer, outputs= output)\n",
    "model.compile(loss='binary_crossentropy', optimizer = 'adam',metrics=['acc'])"
   ]
  },
  {
   "cell_type": "code",
   "execution_count": 34,
   "metadata": {},
   "outputs": [
    {
     "name": "stdout",
     "output_type": "stream",
     "text": [
      "Model: \"model_2\"\n",
      "_________________________________________________________________\n",
      "Layer (type)                 Output Shape              Param #   \n",
      "=================================================================\n",
      "input_3 (InputLayer)         [(None, 10)]              0         \n",
      "_________________________________________________________________\n",
      "dense_6 (Dense)              (None, 15)                165       \n",
      "_________________________________________________________________\n",
      "dense_7 (Dense)              (None, 10)                160       \n",
      "_________________________________________________________________\n",
      "dense_8 (Dense)              (None, 1)                 11        \n",
      "=================================================================\n",
      "Total params: 336\n",
      "Trainable params: 336\n",
      "Non-trainable params: 0\n",
      "_________________________________________________________________\n",
      "None\n"
     ]
    }
   ],
   "source": [
    "print(model.summary())"
   ]
  },
  {
   "cell_type": "code",
   "execution_count": 36,
   "metadata": {},
   "outputs": [
    {
     "data": {
      "text/plain": [
       "(353, 10)"
      ]
     },
     "execution_count": 36,
     "metadata": {},
     "output_type": "execute_result"
    }
   ],
   "source": [
    "X_train.shape"
   ]
  },
  {
   "cell_type": "code",
   "execution_count": 37,
   "metadata": {},
   "outputs": [
    {
     "data": {
      "text/plain": [
       "(353,)"
      ]
     },
     "execution_count": 37,
     "metadata": {},
     "output_type": "execute_result"
    }
   ],
   "source": [
    "y_train.shape"
   ]
  },
  {
   "cell_type": "code",
   "execution_count": 39,
   "metadata": {},
   "outputs": [
    {
     "name": "stdout",
     "output_type": "stream",
     "text": [
      "Epoch 1/50\n",
      "3/3 [==============================] - 4s 357ms/step - loss: -1.4323 - acc: 0.0000e+00 - val_loss: -2.4801 - val_acc: 0.0000e+00\n",
      "Epoch 2/50\n",
      "3/3 [==============================] - 0s 96ms/step - loss: -3.4824 - acc: 0.0000e+00 - val_loss: -4.2340 - val_acc: 0.0000e+00\n",
      "Epoch 3/50\n",
      "3/3 [==============================] - 0s 80ms/step - loss: -5.7280 - acc: 0.0000e+00 - val_loss: -6.1233 - val_acc: 0.0000e+00\n",
      "Epoch 4/50\n",
      "3/3 [==============================] - 0s 84ms/step - loss: -8.1402 - acc: 0.0000e+00 - val_loss: -8.1000 - val_acc: 0.0000e+00\n",
      "Epoch 5/50\n",
      "3/3 [==============================] - 0s 83ms/step - loss: -10.2540 - acc: 0.0000e+00 - val_loss: -10.2510 - val_acc: 0.0000e+00\n",
      "Epoch 6/50\n",
      "3/3 [==============================] - 0s 89ms/step - loss: -12.7173 - acc: 0.0000e+00 - val_loss: -12.5516 - val_acc: 0.0000e+00\n",
      "Epoch 7/50\n",
      "3/3 [==============================] - 0s 102ms/step - loss: -15.3880 - acc: 0.0000e+00 - val_loss: -14.9653 - val_acc: 0.0000e+00\n",
      "Epoch 8/50\n",
      "3/3 [==============================] - 0s 92ms/step - loss: -18.7220 - acc: 0.0000e+00 - val_loss: -17.5544 - val_acc: 0.0000e+00\n",
      "Epoch 9/50\n",
      "3/3 [==============================] - 0s 78ms/step - loss: -22.2111 - acc: 0.0000e+00 - val_loss: -20.2666 - val_acc: 0.0000e+00\n",
      "Epoch 10/50\n",
      "3/3 [==============================] - 0s 80ms/step - loss: -24.6548 - acc: 0.0000e+00 - val_loss: -23.0846 - val_acc: 0.0000e+00\n",
      "Epoch 11/50\n",
      "3/3 [==============================] - 0s 74ms/step - loss: -28.3991 - acc: 0.0000e+00 - val_loss: -26.0256 - val_acc: 0.0000e+00\n",
      "Epoch 12/50\n",
      "3/3 [==============================] - 0s 71ms/step - loss: -31.3642 - acc: 0.0000e+00 - val_loss: -29.0699 - val_acc: 0.0000e+00\n",
      "Epoch 13/50\n",
      "3/3 [==============================] - 0s 71ms/step - loss: -36.4225 - acc: 0.0000e+00 - val_loss: -32.2548 - val_acc: 0.0000e+00\n",
      "Epoch 14/50\n",
      "3/3 [==============================] - 0s 91ms/step - loss: -38.5935 - acc: 0.0000e+00 - val_loss: -35.5490 - val_acc: 0.0000e+00\n",
      "Epoch 15/50\n",
      "3/3 [==============================] - 0s 71ms/step - loss: -43.0470 - acc: 0.0000e+00 - val_loss: -38.9756 - val_acc: 0.0000e+00\n",
      "Epoch 16/50\n",
      "3/3 [==============================] - 0s 67ms/step - loss: -46.5204 - acc: 0.0000e+00 - val_loss: -42.5363 - val_acc: 0.0000e+00\n",
      "Epoch 17/50\n",
      "3/3 [==============================] - 0s 73ms/step - loss: -52.8201 - acc: 0.0000e+00 - val_loss: -46.2553 - val_acc: 0.0000e+00\n",
      "Epoch 18/50\n",
      "3/3 [==============================] - 0s 70ms/step - loss: -57.4247 - acc: 0.0000e+00 - val_loss: -50.1139 - val_acc: 0.0000e+00\n",
      "Epoch 19/50\n",
      "3/3 [==============================] - 0s 76ms/step - loss: -59.8512 - acc: 0.0000e+00 - val_loss: -54.1246 - val_acc: 0.0000e+00\n",
      "Epoch 20/50\n",
      "3/3 [==============================] - 0s 78ms/step - loss: -65.7903 - acc: 0.0000e+00 - val_loss: -58.3267 - val_acc: 0.0000e+00\n",
      "Epoch 21/50\n",
      "3/3 [==============================] - 0s 71ms/step - loss: -69.3126 - acc: 0.0000e+00 - val_loss: -62.6964 - val_acc: 0.0000e+00\n",
      "Epoch 22/50\n",
      "3/3 [==============================] - 0s 69ms/step - loss: -75.0832 - acc: 0.0000e+00 - val_loss: -67.2762 - val_acc: 0.0000e+00\n",
      "Epoch 23/50\n",
      "3/3 [==============================] - 0s 73ms/step - loss: -79.6605 - acc: 0.0000e+00 - val_loss: -72.0588 - val_acc: 0.0000e+00\n",
      "Epoch 24/50\n",
      "3/3 [==============================] - 0s 69ms/step - loss: -89.8376 - acc: 0.0000e+00 - val_loss: -77.0739 - val_acc: 0.0000e+00\n",
      "Epoch 25/50\n",
      "3/3 [==============================] - 0s 64ms/step - loss: -89.9122 - acc: 0.0000e+00 - val_loss: -82.2584 - val_acc: 0.0000e+00\n",
      "Epoch 26/50\n",
      "3/3 [==============================] - 0s 53ms/step - loss: -101.1242 - acc: 0.0000e+00 - val_loss: -87.7099 - val_acc: 0.0000e+00\n",
      "Epoch 27/50\n",
      "3/3 [==============================] - 0s 52ms/step - loss: -105.9851 - acc: 0.0000e+00 - val_loss: -93.3905 - val_acc: 0.0000e+00\n",
      "Epoch 28/50\n",
      "3/3 [==============================] - 0s 54ms/step - loss: -114.2998 - acc: 0.0000e+00 - val_loss: -99.3303 - val_acc: 0.0000e+00\n",
      "Epoch 29/50\n",
      "3/3 [==============================] - 0s 54ms/step - loss: -119.5612 - acc: 0.0000e+00 - val_loss: -105.5183 - val_acc: 0.0000e+00\n",
      "Epoch 30/50\n",
      "3/3 [==============================] - 0s 55ms/step - loss: -129.9798 - acc: 0.0000e+00 - val_loss: -112.0024 - val_acc: 0.0000e+00\n",
      "Epoch 31/50\n",
      "3/3 [==============================] - 0s 54ms/step - loss: -140.5893 - acc: 0.0000e+00 - val_loss: -118.7770 - val_acc: 0.0000e+00\n",
      "Epoch 32/50\n",
      "3/3 [==============================] - 0s 60ms/step - loss: -145.3614 - acc: 0.0000e+00 - val_loss: -125.8039 - val_acc: 0.0000e+00\n",
      "Epoch 33/50\n",
      "3/3 [==============================] - 0s 39ms/step - loss: -156.9819 - acc: 0.0000e+00 - val_loss: -133.1486 - val_acc: 0.0000e+00\n",
      "Epoch 34/50\n",
      "3/3 [==============================] - 0s 39ms/step - loss: -162.7587 - acc: 0.0000e+00 - val_loss: -140.7603 - val_acc: 0.0000e+00\n",
      "Epoch 35/50\n",
      "3/3 [==============================] - 0s 39ms/step - loss: -173.4268 - acc: 0.0000e+00 - val_loss: -148.6946 - val_acc: 0.0000e+00\n",
      "Epoch 36/50\n",
      "3/3 [==============================] - 0s 38ms/step - loss: -179.1257 - acc: 0.0000e+00 - val_loss: -156.9312 - val_acc: 0.0000e+00\n",
      "Epoch 37/50\n",
      "3/3 [==============================] - 0s 41ms/step - loss: -194.0270 - acc: 0.0000e+00 - val_loss: -165.5281 - val_acc: 0.0000e+00\n",
      "Epoch 38/50\n",
      "3/3 [==============================] - 0s 40ms/step - loss: -204.5794 - acc: 0.0000e+00 - val_loss: -174.4620 - val_acc: 0.0000e+00\n",
      "Epoch 39/50\n",
      "3/3 [==============================] - 0s 54ms/step - loss: -217.6797 - acc: 0.0000e+00 - val_loss: -183.7407 - val_acc: 0.0000e+00\n",
      "Epoch 40/50\n",
      "3/3 [==============================] - 0s 63ms/step - loss: -223.8680 - acc: 0.0000e+00 - val_loss: -193.3356 - val_acc: 0.0000e+00\n",
      "Epoch 41/50\n",
      "3/3 [==============================] - 0s 67ms/step - loss: -239.9288 - acc: 0.0000e+00 - val_loss: -203.3351 - val_acc: 0.0000e+00\n",
      "Epoch 42/50\n",
      "3/3 [==============================] - 0s 62ms/step - loss: -245.9035 - acc: 0.0000e+00 - val_loss: -213.6712 - val_acc: 0.0000e+00\n",
      "Epoch 43/50\n",
      "3/3 [==============================] - 0s 61ms/step - loss: -266.7016 - acc: 0.0000e+00 - val_loss: -224.4324 - val_acc: 0.0000e+00\n",
      "Epoch 44/50\n",
      "3/3 [==============================] - 0s 60ms/step - loss: -279.8325 - acc: 0.0000e+00 - val_loss: -235.6005 - val_acc: 0.0000e+00\n",
      "Epoch 45/50\n",
      "3/3 [==============================] - 0s 58ms/step - loss: -298.2826 - acc: 0.0000e+00 - val_loss: -247.2166 - val_acc: 0.0000e+00\n",
      "Epoch 46/50\n",
      "3/3 [==============================] - 0s 60ms/step - loss: -306.0771 - acc: 0.0000e+00 - val_loss: -259.2446 - val_acc: 0.0000e+00\n",
      "Epoch 47/50\n",
      "3/3 [==============================] - 0s 71ms/step - loss: -327.8940 - acc: 0.0000e+00 - val_loss: -271.8037 - val_acc: 0.0000e+00\n",
      "Epoch 48/50\n",
      "3/3 [==============================] - 0s 68ms/step - loss: -336.6108 - acc: 0.0000e+00 - val_loss: -284.8174 - val_acc: 0.0000e+00\n",
      "Epoch 49/50\n",
      "3/3 [==============================] - 0s 73ms/step - loss: -350.9541 - acc: 0.0000e+00 - val_loss: -298.3383 - val_acc: 0.0000e+00\n",
      "Epoch 50/50\n",
      "3/3 [==============================] - 0s 67ms/step - loss: -369.5942 - acc: 0.0000e+00 - val_loss: -312.3936 - val_acc: 0.0000e+00\n"
     ]
    }
   ],
   "source": [
    "history = model.fit(X_train,y_train, batch_size = 100, epochs = 50, verbose=1, validation_split= 0.2)"
   ]
  },
  {
   "cell_type": "code",
   "execution_count": 42,
   "metadata": {},
   "outputs": [
    {
     "name": "stdout",
     "output_type": "stream",
     "text": [
      "3/3 [==============================] - 0s 4ms/step - loss: -340.9323 - acc: 0.0000e+00\n",
      "Test_score =  -340.9322814941406\n",
      "Test_acc =  0.0\n"
     ]
    }
   ],
   "source": [
    "score = model.evaluate(X_test, y_test, verbose = 1)\n",
    "\n",
    "print(\"Test_score = \",score[0])\n",
    "print(\"Test_acc = \",score[1])"
   ]
  }
 ],
 "metadata": {
  "kernelspec": {
   "display_name": "Python 3",
   "language": "python",
   "name": "python3"
  },
  "language_info": {
   "codemirror_mode": {
    "name": "ipython",
    "version": 3
   },
   "file_extension": ".py",
   "mimetype": "text/x-python",
   "name": "python",
   "nbconvert_exporter": "python",
   "pygments_lexer": "ipython3",
   "version": "3.8.5"
  }
 },
 "nbformat": 4,
 "nbformat_minor": 4
}
